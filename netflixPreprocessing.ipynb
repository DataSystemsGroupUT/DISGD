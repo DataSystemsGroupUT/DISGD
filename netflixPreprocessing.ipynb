{
 "cells": [
  {
   "cell_type": "markdown",
   "metadata": {},
   "source": [
    "# Netflix preprocessing"
   ]
  },
  {
   "cell_type": "code",
   "execution_count": null,
   "metadata": {},
   "outputs": [],
   "source": [
    "import pandas as pd\n",
    "import time\n",
    "import datetime\n",
    "import glob"
   ]
  },
  {
   "cell_type": "code",
   "execution_count": null,
   "metadata": {},
   "outputs": [],
   "source": [
    "#reading dataset from file and put it in the form user,item,rate,timeStamp\n",
    "empty = pd.DataFrame(columns=[\"user\",\"item\",\"rate\",\"timestamp\"])\n",
    "path = \"part_training_set/mv_*.txt\"\n",
    "for filename in glob.glob(path):\n",
    "    with open(filename, 'r') as f:\n",
    "        lines = f.readlines()\n",
    "        item = int(lines[0].split(\":\")[0])\n",
    "    r = pd.read_csv(filename,header = None,skiprows=1)\n",
    "    r.columns = [\"user\",\"rate\",\"timestamp\"]\n",
    "    r[\"item\"] = item\n",
    "    r = r[[\"user\",\"item\",\"rate\",\"timestamp\"]]\n",
    "    nf = nf.append(r)"
   ]
  },
  {
   "cell_type": "code",
   "execution_count": null,
   "metadata": {},
   "outputs": [],
   "source": [
    "def convertDateToTimeStamp(date):\n",
    "    datef = time.mktime(datetime.datetime.strptime(date, \"%Y-%m-%d\").timetuple())\n",
    "    dateInt = int(datef)\n",
    "    return dateInt"
   ]
  },
  {
   "cell_type": "code",
   "execution_count": null,
   "metadata": {},
   "outputs": [],
   "source": [
    "#convert timestamp from string to int\n",
    "nf[\"timeStamp\"] = nf[\"timeStamp\"].apply(convertDateToTimeStamp)"
   ]
  },
  {
   "cell_type": "code",
   "execution_count": null,
   "metadata": {},
   "outputs": [],
   "source": [
    "#sort arrcording to timeStamp\n",
    "nf = nf.sort_values(\"timeStamp\")"
   ]
  },
  {
   "cell_type": "code",
   "execution_count": null,
   "metadata": {},
   "outputs": [],
   "source": [
    "#filter out ratings less than 5\n",
    "nf_filtered = nf[nf[\"rate\"]==5]"
   ]
  },
  {
   "cell_type": "code",
   "execution_count": null,
   "metadata": {},
   "outputs": [],
   "source": [
    "#save it\n",
    "nf_filtered.to_csv(\"nff.txt\",header=None,index=None)"
   ]
  }
 ],
 "metadata": {
  "kernelspec": {
   "display_name": "Python 3",
   "language": "python",
   "name": "python3"
  },
  "language_info": {
   "codemirror_mode": {
    "name": "ipython",
    "version": 3
   },
   "file_extension": ".py",
   "mimetype": "text/x-python",
   "name": "python",
   "nbconvert_exporter": "python",
   "pygments_lexer": "ipython3",
   "version": "3.7.3"
  }
 },
 "nbformat": 4,
 "nbformat_minor": 2
}
